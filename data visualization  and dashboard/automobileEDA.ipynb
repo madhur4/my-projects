{
 "cells": [
  {
   "cell_type": "code",
   "execution_count": 1,
   "metadata": {},
   "outputs": [
    {
     "name": "stdout",
     "output_type": "stream",
     "text": [
      "Dash is running on http://127.0.0.1:8050/\n",
      "\n",
      " * Serving Flask app '__main__' (lazy loading)\n",
      " * Environment: production\n",
      "\u001b[31m   WARNING: This is a development server. Do not use it in a production deployment.\u001b[0m\n",
      "\u001b[2m   Use a production WSGI server instead.\u001b[0m\n",
      " * Debug mode: off\n"
     ]
    },
    {
     "name": "stderr",
     "output_type": "stream",
     "text": [
      " * Running on http://127.0.0.1:8050 (Press CTRL+C to quit)\n",
      "127.0.0.1 - - [27/May/2022 14:04:57] \"GET / HTTP/1.1\" 200 -\n",
      "127.0.0.1 - - [27/May/2022 14:04:59] \"GET /_dash-layout HTTP/1.1\" 200 -\n",
      "127.0.0.1 - - [27/May/2022 14:04:59] \"GET /_dash-dependencies HTTP/1.1\" 200 -\n",
      "127.0.0.1 - - [27/May/2022 14:04:59] \"GET /_dash-component-suites/dash/dcc/async-dropdown.js HTTP/1.1\" 304 -\n",
      "127.0.0.1 - - [27/May/2022 14:04:59] \"GET /_favicon.ico?v=2.4.1 HTTP/1.1\" 200 -\n",
      "127.0.0.1 - - [27/May/2022 14:05:01] \"POST /_dash-update-component HTTP/1.1\" 200 -\n",
      "127.0.0.1 - - [27/May/2022 14:05:01] \"GET /_dash-component-suites/dash/dcc/async-graph.js HTTP/1.1\" 304 -\n",
      "127.0.0.1 - - [27/May/2022 14:05:01] \"GET /_dash-component-suites/dash/dcc/async-plotlyjs.js HTTP/1.1\" 304 -\n"
     ]
    }
   ],
   "source": [
    "import pandas as pd\n",
    "import dash\n",
    "#import dash_html_components as html\n",
    "#import dash_core_components as dcc\n",
    "from dash import Input, Output, State,dcc,html\n",
    "import plotly.graph_objects as go\n",
    "import plotly.express as px\n",
    "from dash import no_update\n",
    "\n",
    "app = dash.Dash(__name__)\n",
    "\n",
    "# REVIEW1: Clear the layout and do not display exception till callback gets executed\n",
    "app.config.suppress_callback_exceptions = True\n",
    "\n",
    "# Read the automobiles data into pandas dataframe\n",
    "auto_data =  pd.read_csv('automobileEDA.csv', \n",
    "                            encoding = \"ISO-8859-1\",\n",
    "                            )\n",
    "\n",
    "#Layout Section of Dash\n",
    "\n",
    "app.layout = html.Div(children=[html.H1('Car Automobile Components', \n",
    "                                style={'textAlign': 'center', 'color': '#503D36',\n",
    "                                'font-size': 24}),\n",
    "\n",
    "\n",
    "     #outer division starts\n",
    "     html.Div([\n",
    "                   # First inner divsion for  adding dropdown helper text for Selected Drive wheels\n",
    "                    html.Div(\n",
    "                            html.H2('Drive Wheels Type:', style={'margin-right': '2em'}),\n",
    "                     ),\n",
    "                    #Second Inner division for adding 2 inner divisions for 2 output graphs \n",
    "\n",
    "                      dcc.Dropdown(\n",
    "                            id='demo-dropdown',\n",
    "                        options=[\n",
    "                             {'label': 'Rear Wheel Drive', 'value': 'rwd'},\n",
    "                            {'label': 'Front Wheel Drive', 'value': 'fwd'},\n",
    "                             {'label': 'Four Wheel Drive', 'value': '4wd'}\n",
    "        ],\n",
    "        value='rwd'\n",
    "        ),\n",
    "                    #Second Inner division for adding 2 inner divisions for 2 output graphs \n",
    "\n",
    "                    html.Div([\n",
    "                \n",
    "                        html.Div([ ], id='plot1'),\n",
    "                        html.Div([ ], id='plot2')\n",
    "\n",
    "                        \n",
    "                    ], style={'display': 'flex'}),\n",
    "\n",
    "\n",
    "    ])\n",
    "    #outer division ends\n",
    "\n",
    "])\n",
    "#layout ends\n",
    "\n",
    "#Place to add @app.callback Decorator\n",
    "@app.callback([Output(component_id='plot1', component_property='children'),\n",
    "               Output(component_id='plot2', component_property='children')],\n",
    "               Input(component_id='demo-dropdown', component_property='value'))\n",
    "\n",
    "\n",
    "   \n",
    "#Place to define the callback function .\n",
    "def display_selected_drive_charts(value):\n",
    "   \n",
    "\n",
    "   \n",
    "   filtered_df = auto_data[auto_data['drive-wheels']==value].groupby(['drive-wheels','body-style'],as_index=False). \\\n",
    "            mean()\n",
    "        \n",
    "   filtered_df = filtered_df\n",
    "   \n",
    "   fig1 = px.pie(filtered_df, values='price', names='body-style', title=\"Pie Chart\")\n",
    "   fig2 = px.bar(filtered_df, x='body-style', y='price', title='Bar Chart')\n",
    "    \n",
    "   return [dcc.Graph(figure=fig1),\n",
    "            dcc.Graph(figure=fig2) ]\n",
    "\n",
    "   \n",
    "   \n",
    "\n",
    "\n",
    "if __name__ == '__main__':\n",
    "    app.run_server()\n",
    "    "
   ]
  }
 ],
 "metadata": {
  "kernelspec": {
   "display_name": "Python 3.10.2 ('minimal_ds2')",
   "language": "python",
   "name": "python3"
  },
  "language_info": {
   "codemirror_mode": {
    "name": "ipython",
    "version": 3
   },
   "file_extension": ".py",
   "mimetype": "text/x-python",
   "name": "python",
   "nbconvert_exporter": "python",
   "pygments_lexer": "ipython3",
   "version": "3.10.2"
  },
  "orig_nbformat": 4,
  "vscode": {
   "interpreter": {
    "hash": "937e3902b33f7643db5e2e6d92cbbea062b961579d88ace48c7b908b94b18fd2"
   }
  }
 },
 "nbformat": 4,
 "nbformat_minor": 2
}
